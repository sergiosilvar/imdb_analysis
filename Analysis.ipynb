{
 "cells": [
  {
   "cell_type": "code",
   "execution_count": 1,
   "metadata": {},
   "outputs": [
    {
     "name": "stderr",
     "output_type": "stream",
     "text": [
      "\r",
      "                                                                               \r",
      "\r",
      "N/A% (0 of 201) |                        | Elapsed Time: 0:00:00 ETA:  --:--:--"
     ]
    }
   ],
   "source": [
    "import imdb_crawler as ic\n",
    "\n",
    "if __name__ ==  \"__main__\":\n",
    "    generos = ['adventure', 'documentary', 'reality_tv', 'game_show']\n",
    "    pag = 1\n",
    "    url = 'http://www.imdb.com/search/title/?genres={}&title_type=' \\\n",
    "        'tv_series,mini_series&page={}&ref_=adv_nxt'.format(generos[0], 1)\n",
    "    ic.crawler_tvseries(tipo=\"adventure\", pagina=106)\n"
   ]
  },
  {
   "cell_type": "code",
   "execution_count": null,
   "metadata": {
    "collapsed": true
   },
   "outputs": [],
   "source": []
  },
  {
   "cell_type": "code",
   "execution_count": 58,
   "metadata": {},
   "outputs": [],
   "source": [
    "import pandas as pd\n",
    "from pathlib import Path\n",
    "import matplotlib.pyplot as plt\n",
    "%matplotlib inline"
   ]
  },
  {
   "cell_type": "code",
   "execution_count": 87,
   "metadata": {
    "collapsed": true
   },
   "outputs": [],
   "source": [
    "df = pd.DataFrame([])\n",
    "for genero in ['./output/reality_tv/', './output/documentary/', './output/adventure/']:\n",
    "    path = Path(genero)\n",
    "    arqs = path.glob('*.csv')\n",
    "    for arq in arqs: \n",
    "        df = df.append(pd.read_csv(arq.as_posix(), sep=';'))\n",
    "        break\n",
    "    "
   ]
  },
  {
   "cell_type": "code",
   "execution_count": 88,
   "metadata": {},
   "outputs": [
    {
     "data": {
      "text/html": [
       "<div>\n",
       "<table border=\"1\" class=\"dataframe\">\n",
       "  <thead>\n",
       "    <tr style=\"text-align: right;\">\n",
       "      <th></th>\n",
       "      <th>0</th>\n",
       "      <th>1</th>\n",
       "      <th>10</th>\n",
       "      <th>11</th>\n",
       "      <th>2</th>\n",
       "      <th>3</th>\n",
       "      <th>4</th>\n",
       "      <th>5</th>\n",
       "      <th>6</th>\n",
       "      <th>7</th>\n",
       "      <th>...</th>\n",
       "      <th>Elenco</th>\n",
       "      <th>Fim</th>\n",
       "      <th>Genero</th>\n",
       "      <th>Id</th>\n",
       "      <th>Inicio</th>\n",
       "      <th>Link</th>\n",
       "      <th>Nota</th>\n",
       "      <th>Sinopse</th>\n",
       "      <th>Titulo</th>\n",
       "      <th>Votos</th>\n",
       "    </tr>\n",
       "  </thead>\n",
       "  <tbody>\n",
       "    <tr>\n",
       "      <th>0</th>\n",
       "      <td>/title/tt2021540/?ref_=adv_li_tt</td>\n",
       "      <td>Leckere Landpartie - Eine kulinarische Reise</td>\n",
       "      <td>MariaGührer|BrittaKorrell|BeateLang|RitaVitt</td>\n",
       "      <td>NaN</td>\n",
       "      <td>http://www.imdb.com//title/tt2021540/?ref_=adv...</td>\n",
       "      <td>(2011– )</td>\n",
       "      <td>2011</td>\n",
       "      <td></td>\n",
       "      <td>45 min</td>\n",
       "      <td>Reality-TV</td>\n",
       "      <td>...</td>\n",
       "      <td>NaN</td>\n",
       "      <td>NaN</td>\n",
       "      <td>NaN</td>\n",
       "      <td>NaN</td>\n",
       "      <td>NaN</td>\n",
       "      <td>NaN</td>\n",
       "      <td>NaN</td>\n",
       "      <td>NaN</td>\n",
       "      <td>NaN</td>\n",
       "      <td>NaN</td>\n",
       "    </tr>\n",
       "    <tr>\n",
       "      <th>1</th>\n",
       "      <td>/title/tt7214094/?ref_=adv_li_tt</td>\n",
       "      <td>Carrie Kirsten</td>\n",
       "      <td>NaN</td>\n",
       "      <td>5.0</td>\n",
       "      <td>http://www.imdb.com//title/tt7214094/?ref_=adv...</td>\n",
       "      <td>(2014– )</td>\n",
       "      <td>2014</td>\n",
       "      <td></td>\n",
       "      <td>10 min</td>\n",
       "      <td>Reality-TV</td>\n",
       "      <td>...</td>\n",
       "      <td>NaN</td>\n",
       "      <td>NaN</td>\n",
       "      <td>NaN</td>\n",
       "      <td>NaN</td>\n",
       "      <td>NaN</td>\n",
       "      <td>NaN</td>\n",
       "      <td>NaN</td>\n",
       "      <td>NaN</td>\n",
       "      <td>NaN</td>\n",
       "      <td>NaN</td>\n",
       "    </tr>\n",
       "    <tr>\n",
       "      <th>2</th>\n",
       "      <td>/title/tt4994472/?ref_=adv_li_tt</td>\n",
       "      <td>Overcooked Vegan</td>\n",
       "      <td>ChristianT.Chan|ChristineNguyen|VictoriaVertuga</td>\n",
       "      <td>NaN</td>\n",
       "      <td>http://www.imdb.com//title/tt4994472/?ref_=adv...</td>\n",
       "      <td>(2015– )</td>\n",
       "      <td>2015</td>\n",
       "      <td></td>\n",
       "      <td>NaN</td>\n",
       "      <td>Reality-TV</td>\n",
       "      <td>...</td>\n",
       "      <td>NaN</td>\n",
       "      <td>NaN</td>\n",
       "      <td>NaN</td>\n",
       "      <td>NaN</td>\n",
       "      <td>NaN</td>\n",
       "      <td>NaN</td>\n",
       "      <td>NaN</td>\n",
       "      <td>NaN</td>\n",
       "      <td>NaN</td>\n",
       "      <td>NaN</td>\n",
       "    </tr>\n",
       "    <tr>\n",
       "      <th>3</th>\n",
       "      <td>/title/tt1488979/?ref_=adv_li_tt</td>\n",
       "      <td>Streets of Fear</td>\n",
       "      <td>NaN</td>\n",
       "      <td>NaN</td>\n",
       "      <td>http://www.imdb.com//title/tt1488979/?ref_=adv...</td>\n",
       "      <td>(2008– )</td>\n",
       "      <td>2008</td>\n",
       "      <td></td>\n",
       "      <td>NaN</td>\n",
       "      <td>Reality-TV</td>\n",
       "      <td>...</td>\n",
       "      <td>NaN</td>\n",
       "      <td>NaN</td>\n",
       "      <td>NaN</td>\n",
       "      <td>NaN</td>\n",
       "      <td>NaN</td>\n",
       "      <td>NaN</td>\n",
       "      <td>NaN</td>\n",
       "      <td>NaN</td>\n",
       "      <td>NaN</td>\n",
       "      <td>NaN</td>\n",
       "    </tr>\n",
       "    <tr>\n",
       "      <th>4</th>\n",
       "      <td>/title/tt1409819/?ref_=adv_li_tt</td>\n",
       "      <td>Divine Canine</td>\n",
       "      <td>NaN</td>\n",
       "      <td>NaN</td>\n",
       "      <td>http://www.imdb.com//title/tt1409819/?ref_=adv...</td>\n",
       "      <td>(2007– )</td>\n",
       "      <td>2007</td>\n",
       "      <td></td>\n",
       "      <td>NaN</td>\n",
       "      <td>Reality-TV</td>\n",
       "      <td>...</td>\n",
       "      <td>NaN</td>\n",
       "      <td>NaN</td>\n",
       "      <td>NaN</td>\n",
       "      <td>NaN</td>\n",
       "      <td>NaN</td>\n",
       "      <td>NaN</td>\n",
       "      <td>NaN</td>\n",
       "      <td>NaN</td>\n",
       "      <td>NaN</td>\n",
       "      <td>NaN</td>\n",
       "    </tr>\n",
       "  </tbody>\n",
       "</table>\n",
       "<p>5 rows × 24 columns</p>\n",
       "</div>"
      ],
      "text/plain": [
       "                                  0  \\\n",
       "0  /title/tt2021540/?ref_=adv_li_tt   \n",
       "1  /title/tt7214094/?ref_=adv_li_tt   \n",
       "2  /title/tt4994472/?ref_=adv_li_tt   \n",
       "3  /title/tt1488979/?ref_=adv_li_tt   \n",
       "4  /title/tt1409819/?ref_=adv_li_tt   \n",
       "\n",
       "                                              1  \\\n",
       "0  Leckere Landpartie - Eine kulinarische Reise   \n",
       "1                                Carrie Kirsten   \n",
       "2                              Overcooked Vegan   \n",
       "3                               Streets of Fear   \n",
       "4                                 Divine Canine   \n",
       "\n",
       "                                                10   11  \\\n",
       "0     MariaGührer|BrittaKorrell|BeateLang|RitaVitt  NaN   \n",
       "1                                              NaN  5.0   \n",
       "2  ChristianT.Chan|ChristineNguyen|VictoriaVertuga  NaN   \n",
       "3                                              NaN  NaN   \n",
       "4                                              NaN  NaN   \n",
       "\n",
       "                                                   2         3     4  5  \\\n",
       "0  http://www.imdb.com//title/tt2021540/?ref_=adv...  (2011– )  2011      \n",
       "1  http://www.imdb.com//title/tt7214094/?ref_=adv...  (2014– )  2014      \n",
       "2  http://www.imdb.com//title/tt4994472/?ref_=adv...  (2015– )  2015      \n",
       "3  http://www.imdb.com//title/tt1488979/?ref_=adv...  (2008– )  2008      \n",
       "4  http://www.imdb.com//title/tt1409819/?ref_=adv...  (2007– )  2007      \n",
       "\n",
       "        6           7  ...   Elenco  Fim Genero   Id Inicio Link Nota Sinopse  \\\n",
       "0  45 min  Reality-TV  ...      NaN  NaN    NaN  NaN    NaN  NaN  NaN     NaN   \n",
       "1  10 min  Reality-TV  ...      NaN  NaN    NaN  NaN    NaN  NaN  NaN     NaN   \n",
       "2     NaN  Reality-TV  ...      NaN  NaN    NaN  NaN    NaN  NaN  NaN     NaN   \n",
       "3     NaN  Reality-TV  ...      NaN  NaN    NaN  NaN    NaN  NaN  NaN     NaN   \n",
       "4     NaN  Reality-TV  ...      NaN  NaN    NaN  NaN    NaN  NaN  NaN     NaN   \n",
       "\n",
       "  Titulo Votos  \n",
       "0    NaN   NaN  \n",
       "1    NaN   NaN  \n",
       "2    NaN   NaN  \n",
       "3    NaN   NaN  \n",
       "4    NaN   NaN  \n",
       "\n",
       "[5 rows x 24 columns]"
      ]
     },
     "execution_count": 88,
     "metadata": {},
     "output_type": "execute_result"
    }
   ],
   "source": [
    "df.head()"
   ]
  },
  {
   "cell_type": "code",
   "execution_count": 79,
   "metadata": {},
   "outputs": [
    {
     "ename": "ValueError",
     "evalue": "Length mismatch: Expected axis has 24 elements, new values have 12 elements",
     "output_type": "error",
     "traceback": [
      "\u001b[0;31m---------------------------------------------------------------------------\u001b[0m",
      "\u001b[0;31mValueError\u001b[0m                                Traceback (most recent call last)",
      "\u001b[0;32m<ipython-input-79-c2b512a976a3>\u001b[0m in \u001b[0;36m<module>\u001b[0;34m()\u001b[0m\n\u001b[0;32m----> 1\u001b[0;31m \u001b[0mdf\u001b[0m\u001b[0;34m.\u001b[0m\u001b[0mcolumns\u001b[0m\u001b[0;34m=\u001b[0m\u001b[0;34m[\u001b[0m\u001b[0;34m'Id'\u001b[0m\u001b[0;34m,\u001b[0m \u001b[0;34m'Titulo'\u001b[0m\u001b[0;34m,\u001b[0m \u001b[0;34m'Link'\u001b[0m\u001b[0;34m,\u001b[0m \u001b[0;34m'Anos'\u001b[0m\u001b[0;34m,\u001b[0m \u001b[0;34m'Inicio'\u001b[0m\u001b[0;34m,\u001b[0m \u001b[0;34m'Fim'\u001b[0m\u001b[0;34m,\u001b[0m \u001b[0;34m'Duracao'\u001b[0m\u001b[0;34m,\u001b[0m \u001b[0;34m'Genero'\u001b[0m\u001b[0;34m,\u001b[0m \u001b[0;34m'Nota'\u001b[0m\u001b[0;34m,\u001b[0m \u001b[0;34m'Sinopse'\u001b[0m\u001b[0;34m,\u001b[0m \u001b[0;34m'Elenco'\u001b[0m\u001b[0;34m,\u001b[0m \u001b[0;34m'Votos'\u001b[0m\u001b[0;34m]\u001b[0m\u001b[0;34m\u001b[0m\u001b[0m\n\u001b[0m",
      "\u001b[0;32m~/.local/lib/python3.5/site-packages/pandas/core/generic.py\u001b[0m in \u001b[0;36m__setattr__\u001b[0;34m(self, name, value)\u001b[0m\n\u001b[1;32m   2755\u001b[0m         \u001b[0;32mtry\u001b[0m\u001b[0;34m:\u001b[0m\u001b[0;34m\u001b[0m\u001b[0m\n\u001b[1;32m   2756\u001b[0m             \u001b[0mobject\u001b[0m\u001b[0;34m.\u001b[0m\u001b[0m__getattribute__\u001b[0m\u001b[0;34m(\u001b[0m\u001b[0mself\u001b[0m\u001b[0;34m,\u001b[0m \u001b[0mname\u001b[0m\u001b[0;34m)\u001b[0m\u001b[0;34m\u001b[0m\u001b[0m\n\u001b[0;32m-> 2757\u001b[0;31m             \u001b[0;32mreturn\u001b[0m \u001b[0mobject\u001b[0m\u001b[0;34m.\u001b[0m\u001b[0m__setattr__\u001b[0m\u001b[0;34m(\u001b[0m\u001b[0mself\u001b[0m\u001b[0;34m,\u001b[0m \u001b[0mname\u001b[0m\u001b[0;34m,\u001b[0m \u001b[0mvalue\u001b[0m\u001b[0;34m)\u001b[0m\u001b[0;34m\u001b[0m\u001b[0m\n\u001b[0m\u001b[1;32m   2758\u001b[0m         \u001b[0;32mexcept\u001b[0m \u001b[0mAttributeError\u001b[0m\u001b[0;34m:\u001b[0m\u001b[0;34m\u001b[0m\u001b[0m\n\u001b[1;32m   2759\u001b[0m             \u001b[0;32mpass\u001b[0m\u001b[0;34m\u001b[0m\u001b[0m\n",
      "\u001b[0;32mpandas/src/properties.pyx\u001b[0m in \u001b[0;36mpandas.lib.AxisProperty.__set__ (pandas/lib.c:46249)\u001b[0;34m()\u001b[0m\n",
      "\u001b[0;32m~/.local/lib/python3.5/site-packages/pandas/core/generic.py\u001b[0m in \u001b[0;36m_set_axis\u001b[0;34m(self, axis, labels)\u001b[0m\n\u001b[1;32m    446\u001b[0m \u001b[0;34m\u001b[0m\u001b[0m\n\u001b[1;32m    447\u001b[0m     \u001b[0;32mdef\u001b[0m \u001b[0m_set_axis\u001b[0m\u001b[0;34m(\u001b[0m\u001b[0mself\u001b[0m\u001b[0;34m,\u001b[0m \u001b[0maxis\u001b[0m\u001b[0;34m,\u001b[0m \u001b[0mlabels\u001b[0m\u001b[0;34m)\u001b[0m\u001b[0;34m:\u001b[0m\u001b[0;34m\u001b[0m\u001b[0m\n\u001b[0;32m--> 448\u001b[0;31m         \u001b[0mself\u001b[0m\u001b[0;34m.\u001b[0m\u001b[0m_data\u001b[0m\u001b[0;34m.\u001b[0m\u001b[0mset_axis\u001b[0m\u001b[0;34m(\u001b[0m\u001b[0maxis\u001b[0m\u001b[0;34m,\u001b[0m \u001b[0mlabels\u001b[0m\u001b[0;34m)\u001b[0m\u001b[0;34m\u001b[0m\u001b[0m\n\u001b[0m\u001b[1;32m    449\u001b[0m         \u001b[0mself\u001b[0m\u001b[0;34m.\u001b[0m\u001b[0m_clear_item_cache\u001b[0m\u001b[0;34m(\u001b[0m\u001b[0;34m)\u001b[0m\u001b[0;34m\u001b[0m\u001b[0m\n\u001b[1;32m    450\u001b[0m \u001b[0;34m\u001b[0m\u001b[0m\n",
      "\u001b[0;32m~/.local/lib/python3.5/site-packages/pandas/core/internals.py\u001b[0m in \u001b[0;36mset_axis\u001b[0;34m(self, axis, new_labels)\u001b[0m\n\u001b[1;32m   2800\u001b[0m             raise ValueError('Length mismatch: Expected axis has %d elements, '\n\u001b[1;32m   2801\u001b[0m                              \u001b[0;34m'new values have %d elements'\u001b[0m \u001b[0;34m%\u001b[0m\u001b[0;34m\u001b[0m\u001b[0m\n\u001b[0;32m-> 2802\u001b[0;31m                              (old_len, new_len))\n\u001b[0m\u001b[1;32m   2803\u001b[0m \u001b[0;34m\u001b[0m\u001b[0m\n\u001b[1;32m   2804\u001b[0m         \u001b[0mself\u001b[0m\u001b[0;34m.\u001b[0m\u001b[0maxes\u001b[0m\u001b[0;34m[\u001b[0m\u001b[0maxis\u001b[0m\u001b[0;34m]\u001b[0m \u001b[0;34m=\u001b[0m \u001b[0mnew_labels\u001b[0m\u001b[0;34m\u001b[0m\u001b[0m\n",
      "\u001b[0;31mValueError\u001b[0m: Length mismatch: Expected axis has 24 elements, new values have 12 elements"
     ]
    }
   ],
   "source": [
    "df.columns=['Id', 'Titulo', 'Link', 'Anos', 'Inicio', 'Fim', 'Duracao', 'Genero', 'Nota', 'Sinopse', 'Elenco', 'Votos']"
   ]
  },
  {
   "cell_type": "code",
   "execution_count": 71,
   "metadata": {},
   "outputs": [
    {
     "data": {
      "text/html": [
       "<div>\n",
       "<table border=\"1\" class=\"dataframe\">\n",
       "  <thead>\n",
       "    <tr style=\"text-align: right;\">\n",
       "      <th></th>\n",
       "      <th>Id</th>\n",
       "      <th>Titulo</th>\n",
       "      <th>Link</th>\n",
       "      <th>Anos</th>\n",
       "      <th>Inicio</th>\n",
       "      <th>Fim</th>\n",
       "      <th>Duracao</th>\n",
       "      <th>Genero</th>\n",
       "      <th>Nota</th>\n",
       "      <th>Sinopse</th>\n",
       "      <th>Elenco</th>\n",
       "      <th>Votos</th>\n",
       "    </tr>\n",
       "  </thead>\n",
       "  <tbody>\n",
       "    <tr>\n",
       "      <th>24</th>\n",
       "      <td>tt4791250</td>\n",
       "      <td>Naked and Afraid XL</td>\n",
       "      <td>http://www.imdb.com//title/tt4791250/?ref_=adv...</td>\n",
       "      <td>(2015– )</td>\n",
       "      <td>2015</td>\n",
       "      <td></td>\n",
       "      <td>42 min</td>\n",
       "      <td>Adventure, Reality-TV</td>\n",
       "      <td>7.5</td>\n",
       "      <td>A group of amateur survivalists are put to the...</td>\n",
       "      <td>MichaelBrown|StevenLeeHallJr.|AmberHargrove|Gi...</td>\n",
       "      <td>588.0</td>\n",
       "    </tr>\n",
       "    <tr>\n",
       "      <th>6</th>\n",
       "      <td>tt3007640</td>\n",
       "      <td>Naked and Afraid</td>\n",
       "      <td>http://www.imdb.com//title/tt3007640/?ref_=adv...</td>\n",
       "      <td>(2013– )</td>\n",
       "      <td>2013</td>\n",
       "      <td></td>\n",
       "      <td>43 min</td>\n",
       "      <td>Adventure, Reality-TV</td>\n",
       "      <td>6.7</td>\n",
       "      <td>Each week, a new pair of total strangers are f...</td>\n",
       "      <td>MichaelBrown|AmandaKaye|AmberHargrove|E.J.Snyder</td>\n",
       "      <td>2355.0</td>\n",
       "    </tr>\n",
       "  </tbody>\n",
       "</table>\n",
       "</div>"
      ],
      "text/plain": [
       "           Id               Titulo  \\\n",
       "24  tt4791250  Naked and Afraid XL   \n",
       "6   tt3007640     Naked and Afraid   \n",
       "\n",
       "                                                 Link      Anos Inicio Fim  \\\n",
       "24  http://www.imdb.com//title/tt4791250/?ref_=adv...  (2015– )   2015       \n",
       "6   http://www.imdb.com//title/tt3007640/?ref_=adv...  (2013– )   2013       \n",
       "\n",
       "   Duracao                 Genero  Nota  \\\n",
       "24  42 min  Adventure, Reality-TV   7.5   \n",
       "6   43 min  Adventure, Reality-TV   6.7   \n",
       "\n",
       "                                              Sinopse  \\\n",
       "24  A group of amateur survivalists are put to the...   \n",
       "6   Each week, a new pair of total strangers are f...   \n",
       "\n",
       "                                               Elenco   Votos  \n",
       "24  MichaelBrown|StevenLeeHallJr.|AmberHargrove|Gi...   588.0  \n",
       "6    MichaelBrown|AmandaKaye|AmberHargrove|E.J.Snyder  2355.0  "
      ]
     },
     "execution_count": 71,
     "metadata": {},
     "output_type": "execute_result"
    }
   ],
   "source": [
    "df[df.Titulo.str.lower().str.contains('naked and afraid')]"
   ]
  },
  {
   "cell_type": "code",
   "execution_count": 64,
   "metadata": {},
   "outputs": [],
   "source": [
    "genero = df.Genero.str.get_dummies(', ')\n",
    "genero.drop('Reality-TV', axis=1, inplace=True)"
   ]
  },
  {
   "cell_type": "code",
   "execution_count": 74,
   "metadata": {},
   "outputs": [
    {
     "data": {
      "image/png": "[encoded data removed]",
      "text/plain": [
       "<matplotlib.figure.Figure at 0x7fb249d5d710>"
      ]
     },
     "metadata": {},
     "output_type": "display_data"
    }
   ],
   "source": [
    "fig, ax = plt.subplots()\n",
    "fig.set_size_inches((9,6))\n",
    "genero.sum().plot(kind='bar', ax=ax)\n",
    "ax.grid();"
   ]
  },
  {
   "cell_type": "code",
   "execution_count": 75,
   "metadata": {},
   "outputs": [
    {
     "data": {
      "text/plain": [
       "(9999, 12)"
      ]
     },
     "execution_count": 75,
     "metadata": {},
     "output_type": "execute_result"
    }
   ],
   "source": [
    "df.shape"
   ]
  }
 ],
 "metadata": {
  "kernelspec": {
   "display_name": "Python 3",
   "language": "python",
   "name": "python3"
  },
  "language_info": {
   "codemirror_mode": {
    "name": "ipython",
    "version": 3
   },
   "file_extension": ".py",
   "mimetype": "text/x-python",
   "name": "python",
   "nbconvert_exporter": "python",
   "pygments_lexer": "ipython3",
   "version": "3.5.2"
  }
 },
 "nbformat": 4,
 "nbformat_minor": 1
}
